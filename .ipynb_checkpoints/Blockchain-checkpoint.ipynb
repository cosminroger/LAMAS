{
 "cells": [
  {
   "cell_type": "code",
   "execution_count": 1,
   "metadata": {},
   "outputs": [],
   "source": [
    "# Include packages here\n",
    "import uuid"
   ]
  },
  {
   "cell_type": "code",
   "execution_count": 2,
   "metadata": {},
   "outputs": [],
   "source": [
    "class Agent:\n",
    "    def __init__(self):\n",
    "        self.id = uuid.uuid1()\n",
    "        self.blockchain = []\n",
    "        self.currency = 0\n",
    "    def RequestBlockchain(self):\n",
    "        print(\"here\")\n",
    "        self.blockchain=blockchain\n",
    "        #I think there should be a line here where we update the currency based on data in the chain\n",
    "        #something like (idk if this actually works)\n",
    "        for i in blockchain:\n",
    "            if i.receiver==self.id:\n",
    "                self.currency+=i.data\n",
    "    #I haven't tested the fct below and am not sure how to \n",
    "    def MakeTransaction(self,TradePartner, amount):\n",
    "        #note: if you receive money amount would be negative\n",
    "        self.RequestBlockchain()\n",
    "        prevBlock = blockchain[len(blockchain)-1]\n",
    "        AddToChain(len(blockchain),\n",
    "                  hash(prevBlock),\n",
    "                  amount,\n",
    "                  agent.id,\n",
    "                  TradePartner)\n"
   ]
  },
  {
   "cell_type": "code",
   "execution_count": 3,
   "metadata": {},
   "outputs": [],
   "source": [
    "class Block:\n",
    "    def __init__(self, blockNo, pHash, data, sender = 0, receiver = 0):\n",
    "        self.blockNo = blockNo\n",
    "        self.pHash = pHash\n",
    "        self.data = data\n",
    "        self.sender = sender\n",
    "        self.receiver = receiver"
   ]
  },
  {
   "cell_type": "code",
   "execution_count": 4,
   "metadata": {},
   "outputs": [],
   "source": [
    "#I wrote this as a separate function so we can later add checking without rewriting it everywhere\n",
    "def AddToChain(BlockNr,Hash,data, sender, receiver):\n",
    "    block = Block(BlockNr,\n",
    "                  Hash,\n",
    "                  data,\n",
    "                  sender,\n",
    "                  receiver)\n",
    "    #verification here\n",
    "    blockchain.append(block)"
   ]
  },
  {
   "cell_type": "code",
   "execution_count": 5,
   "metadata": {},
   "outputs": [],
   "source": [
    "blockchain = []\n",
    "agents = []\n",
    "\n",
    "#Initialise the blockchain\n",
    "blockchain.append(Block(0,0,0,0,0))"
   ]
  },
  {
   "cell_type": "code",
   "execution_count": 6,
   "metadata": {},
   "outputs": [],
   "source": [
    "def newAgentInNetwork():\n",
    "    agent = Agent()\n",
    "    \n",
    "    agents.append(agent)\n",
    "    prevBlock = blockchain[len(blockchain)-1]\n",
    "    AddToChain(len(blockchain),\n",
    "                  hash(prevBlock),\n",
    "                  0,\n",
    "                  agent.id,\n",
    "                  \"Blockchain\")\n"
   ]
  },
  {
   "cell_type": "code",
   "execution_count": 7,
   "metadata": {},
   "outputs": [
    {
     "name": "stdout",
     "output_type": "stream",
     "text": [
      "[<__main__.Block object at 0x0000000004ED6DF0>]\n"
     ]
    }
   ],
   "source": [
    "print(blockchain)"
   ]
  },
  {
   "cell_type": "code",
   "execution_count": 8,
   "metadata": {},
   "outputs": [],
   "source": [
    "newAgentInNetwork()"
   ]
  },
  {
   "cell_type": "code",
   "execution_count": 9,
   "metadata": {},
   "outputs": [
    {
     "name": "stdout",
     "output_type": "stream",
     "text": [
      "[<__main__.Block object at 0x0000000004ED6DF0>, <__main__.Block object at 0x0000000004ED6EE0>]\n"
     ]
    }
   ],
   "source": [
    "print(blockchain)"
   ]
  },
  {
   "cell_type": "code",
   "execution_count": 10,
   "metadata": {},
   "outputs": [
    {
     "name": "stdout",
     "output_type": "stream",
     "text": [
      "a79dc151-d433-11eb-ba1d-08626649c7ed [] 0\n"
     ]
    }
   ],
   "source": [
    "agent=Agent()\n",
    "print(agent.id, agent.blockchain, agent.currency)"
   ]
  },
  {
   "cell_type": "code",
   "execution_count": 11,
   "metadata": {},
   "outputs": [
    {
     "name": "stdout",
     "output_type": "stream",
     "text": [
      "here\n"
     ]
    }
   ],
   "source": [
    "agent.RequestBlockchain()"
   ]
  },
  {
   "cell_type": "code",
   "execution_count": 12,
   "metadata": {},
   "outputs": [
    {
     "name": "stdout",
     "output_type": "stream",
     "text": [
      "a79dc151-d433-11eb-ba1d-08626649c7ed [<__main__.Block object at 0x0000000004ED6DF0>, <__main__.Block object at 0x0000000004ED6EE0>] 0\n"
     ]
    }
   ],
   "source": [
    "print(agent.id, agent.blockchain, agent.currency)"
   ]
  },
  {
   "cell_type": "code",
   "execution_count": null,
   "metadata": {},
   "outputs": [],
   "source": []
  }
 ],
 "metadata": {
  "kernelspec": {
   "display_name": "Python 3",
   "language": "python",
   "name": "python3"
  },
  "language_info": {
   "codemirror_mode": {
    "name": "ipython",
    "version": 3
   },
   "file_extension": ".py",
   "mimetype": "text/x-python",
   "name": "python",
   "nbconvert_exporter": "python",
   "pygments_lexer": "ipython3",
   "version": "3.8.3"
  }
 },
 "nbformat": 4,
 "nbformat_minor": 5
}
