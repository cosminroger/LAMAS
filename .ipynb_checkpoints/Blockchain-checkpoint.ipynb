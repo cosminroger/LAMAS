{
 "cells": [
  {
   "cell_type": "code",
   "execution_count": 11,
   "id": "ebbeaf5b",
   "metadata": {},
   "outputs": [],
   "source": [
    "# Include packages here\n",
    "import uuid"
   ]
  },
  {
   "cell_type": "code",
   "execution_count": 12,
   "id": "1a8a9b76",
   "metadata": {},
   "outputs": [],
   "source": [
    "class Agent:\n",
    "    def __init__(self):\n",
    "        self.id = uuid.uuid1()\n",
    "        self.blockchain = []\n",
    "        self.currency = 0"
   ]
  },
  {
   "cell_type": "code",
   "execution_count": 13,
   "id": "d782cc1c",
   "metadata": {},
   "outputs": [],
   "source": [
    "class Block:\n",
    "    def __init__(self, blockNo, pHash, data, sender = 0, receiver = 0):\n",
    "        self.blockNo = blockNo\n",
    "        self.pHash = pHash\n",
    "        self.data = data\n",
    "        self.sender = sender\n",
    "        self.receiver = receiver"
   ]
  },
  {
   "cell_type": "code",
   "execution_count": 14,
   "id": "bf5d262e",
   "metadata": {},
   "outputs": [],
   "source": [
    "blockchain = []\n",
    "agents = []\n",
    "\n",
    "#Initialise the blockchain\n",
    "blockchain.append(Block(0,0,0,0,0))"
   ]
  },
  {
   "cell_type": "code",
   "execution_count": 30,
   "id": "fa08cabd",
   "metadata": {},
   "outputs": [],
   "source": [
    "def newAgentInNetwork():\n",
    "    agent = Agent()\n",
    "    \n",
    "    agents.append(agent)\n",
    "    prevBlock = blockchain[len(blockchain)-1]\n",
    "    block = Block(len(blockchain),\n",
    "                  hash(prevBlock),\n",
    "                  0,\n",
    "                  agent.id,\n",
    "                  \"Blockchain\")\n",
    "    blockchain.append(block)"
   ]
  },
  {
   "cell_type": "code",
   "execution_count": 31,
   "id": "476390dc",
   "metadata": {},
   "outputs": [
    {
     "name": "stdout",
     "output_type": "stream",
     "text": [
      "[<__main__.Block object at 0x000001E327253358>]\n"
     ]
    }
   ],
   "source": [
    "print(blockchain)"
   ]
  },
  {
   "cell_type": "code",
   "execution_count": 32,
   "id": "5ff6952b",
   "metadata": {},
   "outputs": [],
   "source": [
    "newAgentInNetwork()"
   ]
  },
  {
   "cell_type": "code",
   "execution_count": 33,
   "id": "74604576",
   "metadata": {},
   "outputs": [
    {
     "name": "stdout",
     "output_type": "stream",
     "text": [
      "[<__main__.Block object at 0x000001E327253358>, <__main__.Block object at 0x000001E3272E75F8>]\n"
     ]
    }
   ],
   "source": [
    "print(blockchain)"
   ]
  },
  {
   "cell_type": "code",
   "execution_count": null,
   "id": "d798a6ce",
   "metadata": {},
   "outputs": [],
   "source": []
  }
 ],
 "metadata": {
  "kernelspec": {
   "display_name": "Python 3",
   "language": "python",
   "name": "python3"
  },
  "language_info": {
   "codemirror_mode": {
    "name": "ipython",
    "version": 3
   },
   "file_extension": ".py",
   "mimetype": "text/x-python",
   "name": "python",
   "nbconvert_exporter": "python",
   "pygments_lexer": "ipython3",
   "version": "3.7.0"
  }
 },
 "nbformat": 4,
 "nbformat_minor": 5
}
